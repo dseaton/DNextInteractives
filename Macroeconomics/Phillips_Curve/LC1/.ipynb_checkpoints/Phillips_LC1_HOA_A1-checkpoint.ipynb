{
 "cells": [
  {
   "cell_type": "code",
   "execution_count": 79,
   "metadata": {
    "collapsed": false
   },
   "outputs": [],
   "source": [
    "from IPython.display import HTML"
   ]
  },
  {
   "cell_type": "markdown",
   "metadata": {},
   "source": [
    "###Macroeconomics - Phillips Curve\n",
    "https://edge.edx.org/courses/DavidsonCollege/DAP002/2014/courseware/e8e30d44ee1a44268de4968dbc364642/43299eb8bd584086aef887739dd86768/"
   ]
  },
  {
   "cell_type": "code",
   "execution_count": 29,
   "metadata": {
    "collapsed": false
   },
   "outputs": [
    {
     "data": {
      "text/html": [
       "\n",
       "<!DOCTYPE html>\n",
       "<html>\n",
       "    <head>\n",
       "        <style> \n",
       "            body {\n",
       "                margin: 10px;\n",
       "                /*padding-top: 40px;*/\n",
       "            }\n",
       "        </style>\n",
       "    </head>\n",
       "\n",
       "    <body>\n",
       "        <!-- COMMENT: Define the jxgbox - aka, where all the interactive graphing will go. -->\n",
       "        <div style=\"width: 100%; overflow: hidden;\">\n",
       "            <div id='jxgbox1' class='jxgbox' style='width:450px; height:350px; float:left; border: solid #1f628d 2px;'></div>\n",
       "        </div>\n",
       "        \n",
       "        <!-- COMMENT: Buttons below are used to add debugging features to an interactive. Conole logging allows you to see\n",
       "            output within a browser's console. Try reading about Chrome's console. -->\n",
       "        \n",
       "        <!-- <input class=\"btn\" type=\"button\" value=\"Pass State for Grading\" onClick=\"getInput()\">\n",
       "        <div id=\"spaceBelow\">State:</div> -->\n",
       "\n",
       "        \n",
       "        <!-- COMMENT: Where our Javascript begins. -->\n",
       "        <script type=\"text/javascript\" src=\"https://cdnjs.cloudflare.com/ajax/libs/jsxgraph/0.98/jsxgraphcore.js\"></script>\n",
       "        <script type='text/javascript'>\n",
       "\n",
       "            bboxlimits = [-1.1, 12, 12, -1.1];\n",
       "            var board = JXG.JSXGraph.initBoard('jxgbox1', {axis:false, \n",
       "                                                    showCopyright: false,\n",
       "                                                    showNavigation: false,\n",
       "                                                    zoom: false,\n",
       "                                                    pan: false,\n",
       "                                                    boundingbox:bboxlimits,\n",
       "                                                    grid: false,\n",
       "                                                    hasMouseUp: true, \n",
       "            });\n",
       "            \n",
       "            xaxis = board.create('axis', [[0, 0], [11, 0]], {withLabel: false});\n",
       "            yaxis = board.create('axis', [[0, 0], [0, 11]], {withLabel: false});\n",
       "\n",
       "            //Axes\n",
       "            xaxis.removeAllTicks();\n",
       "            yaxis.removeAllTicks();\n",
       "            var xlabel = board.create('text',[-1,10,\"Price<br>Level\"],{fixed:true});\n",
       "            var ylabel = board.create('text',[9,-0.5,\"Real GDP\"],{fixed:true});\n",
       "            \n",
       "            //Define Objects\n",
       "            createDragLine = function(point1,point2){\n",
       "                return board.create('segment',[point1,point2],{strokeColor:'blue',strokeWidth:'3',name:'AD',\n",
       "                                            withLabel:true,label:{offset:[140,-120]}});\n",
       "            }\n",
       "\n",
       "            c1 = [1.0,10.0]\n",
       "            c2 = [9.0,2.0]\n",
       "            var p1 = board.create('point',c1,{withLabel:false,visible:false});\n",
       "            var p2 = board.create('point',c2,{withLabel:false,visible:false});\n",
       "            var dragLine = createDragLine(p1,p2);\n",
       "\n",
       "            var staticLine = board.create('segment',[c1,c2],{strokeColor:'gray',strokeWidth:'1',dash:'1',\n",
       "                                                             fixed:true,highlight:false});\n",
       "            \n",
       "            var f2 = board.create('functiongraph', [function(x){ return 1.0*x +1.0;},1.0,9.0], \n",
       "                                  {strokeColor:'black',strokeWidth:'3',name:'SRAS',withLabel:true,highlight:false,\n",
       "                                   label:{offset:[220,200]}});\n",
       "            \n",
       "            //Standard edX JSinput functions\n",
       "            getInput = function(){\n",
       "                state = {\"dragLine\":{'p1X':dragLine.point1.X(),'p2X':dragLine.point2.X(),\n",
       "                                     'p1Y':dragLine.point1.Y(),'p2Y':dragLine.point2.Y()},\n",
       "                         \"staticLine\":{'p1X':staticLine.point1.X(),'p2X':staticLine.point2.X(),\n",
       "                                       'p1Y':staticLine.point1.Y(),'p2Y':staticLine.point2.Y()}};\n",
       "                statestr = JSON.stringify(state);\n",
       "                //console.log(statestr);\n",
       "\n",
       "                return statestr;\n",
       "            }\n",
       "\n",
       "            getState = function(){\n",
       "                state = JSON.parse(getInput());\n",
       "                statestr = JSON.stringify(state);\n",
       "                // console.log(statestr);\n",
       "                return statestr;\n",
       "            }\n",
       "\n",
       "            setState = function(statestr){\n",
       "                state = JSON.parse(statestr);\n",
       "                //console.log(state);\n",
       "                //console.log(state[\"dragLine\"]);\n",
       "\n",
       "                if (state[\"dragLine\"]) {\n",
       "                    board.removeObject('AD');\n",
       "                    var point1 = [state[\"dragLine\"][\"p1X\"],state[\"dragLine\"][\"p1Y\"]];\n",
       "                    var point2 = [state[\"dragLine\"][\"p2X\"],state[\"dragLine\"][\"p2Y\"]]\n",
       "                    dragLine = createDragLine(point1,point2);\n",
       "                    board.update();\n",
       "                }\n",
       "                //alert(statestr);\n",
       "                console.debug('State updated successfully from saved.');\n",
       "            }\n",
       "            \n",
       "        </script>\n",
       "    </body>\n",
       "</html>"
      ],
      "text/plain": [
       "<IPython.core.display.HTML object>"
      ]
     },
     "metadata": {},
     "output_type": "display_data"
    }
   ],
   "source": [
    "%%HTML\n",
    "\n",
    "<!DOCTYPE html>\n",
    "<html>\n",
    "    <head>\n",
    "        <style> \n",
    "            body {\n",
    "                margin: 10px;\n",
    "                /*padding-top: 40px;*/\n",
    "            }\n",
    "        </style>\n",
    "    </head>\n",
    "\n",
    "    <body>\n",
    "        <!-- COMMENT: Define the jxgbox - aka, where all the interactive graphing will go. -->\n",
    "        <div style=\"width: 100%; overflow: hidden;\">\n",
    "            <div id='jxgbox1' class='jxgbox' style='width:450px; height:350px; float:left; border: solid #1f628d 2px;'></div>\n",
    "        </div>\n",
    "        \n",
    "        <!-- COMMENT: Buttons below are used to add debugging features to an interactive. Conole logging allows you to see\n",
    "            output within a browser's console. Try reading about Chrome's console. -->\n",
    "        \n",
    "        <!-- <input class=\"btn\" type=\"button\" value=\"Pass State for Grading\" onClick=\"getInput()\">\n",
    "        <div id=\"spaceBelow\">State:</div> -->\n",
    "\n",
    "        \n",
    "        <!-- COMMENT: Where our Javascript begins. -->\n",
    "        <script type=\"text/javascript\" src=\"https://cdnjs.cloudflare.com/ajax/libs/jsxgraph/0.98/jsxgraphcore.js\"></script>\n",
    "        <script type='text/javascript'>\n",
    "\n",
    "            bboxlimits = [-1.1, 12, 12, -1.1];\n",
    "            var board = JXG.JSXGraph.initBoard('jxgbox1', {axis:false, \n",
    "                                                    showCopyright: false,\n",
    "                                                    showNavigation: false,\n",
    "                                                    zoom: false,\n",
    "                                                    pan: false,\n",
    "                                                    boundingbox:bboxlimits,\n",
    "                                                    grid: false,\n",
    "                                                    hasMouseUp: true, \n",
    "            });\n",
    "            \n",
    "            xaxis = board.create('axis', [[0, 0], [11, 0]], {withLabel: false});\n",
    "            yaxis = board.create('axis', [[0, 0], [0, 11]], {withLabel: false});\n",
    "\n",
    "            //Axes\n",
    "            xaxis.removeAllTicks();\n",
    "            yaxis.removeAllTicks();\n",
    "            var xlabel = board.create('text',[-1,10,\"Price<br>Level\"],{fixed:true});\n",
    "            var ylabel = board.create('text',[9,-0.5,\"Real GDP\"],{fixed:true});\n",
    "            \n",
    "            //Define Objects\n",
    "            createDragLine = function(point1,point2){\n",
    "                return board.create('segment',[point1,point2],{strokeColor:'blue',strokeWidth:'3',name:'AD',\n",
    "                                            withLabel:true,label:{offset:[140,-120]}});\n",
    "            }\n",
    "\n",
    "            c1 = [1.0,10.0]\n",
    "            c2 = [9.0,2.0]\n",
    "            var p1 = board.create('point',c1,{withLabel:false,visible:false});\n",
    "            var p2 = board.create('point',c2,{withLabel:false,visible:false});\n",
    "            var dragLine = createDragLine(p1,p2);\n",
    "\n",
    "            var staticLine = board.create('segment',[c1,c2],{strokeColor:'gray',strokeWidth:'1',dash:'1',\n",
    "                                                             fixed:true,highlight:false});\n",
    "            \n",
    "            var f2 = board.create('functiongraph', [function(x){ return 1.0*x +1.0;},1.0,9.0], \n",
    "                                  {strokeColor:'black',strokeWidth:'3',name:'SRAS',withLabel:true,highlight:false,\n",
    "                                   label:{offset:[220,200]}});\n",
    "            \n",
    "            //Standard edX JSinput functions\n",
    "            getInput = function(){\n",
    "                state = {\"dragLine\":{'p1X':dragLine.point1.X(),'p2X':dragLine.point2.X(),\n",
    "                                     'p1Y':dragLine.point1.Y(),'p2Y':dragLine.point2.Y()},\n",
    "                         \"staticLine\":{'p1X':staticLine.point1.X(),'p2X':staticLine.point2.X(),\n",
    "                                       'p1Y':staticLine.point1.Y(),'p2Y':staticLine.point2.Y()}};\n",
    "                statestr = JSON.stringify(state);\n",
    "                //console.log(statestr);\n",
    "\n",
    "                return statestr;\n",
    "            }\n",
    "\n",
    "            getState = function(){\n",
    "                state = JSON.parse(getInput());\n",
    "                statestr = JSON.stringify(state);\n",
    "                // console.log(statestr);\n",
    "                return statestr;\n",
    "            }\n",
    "\n",
    "            setState = function(statestr){\n",
    "                state = JSON.parse(statestr);\n",
    "                //console.log(state);\n",
    "                //console.log(state[\"dragLine\"]);\n",
    "\n",
    "                if (state[\"dragLine\"]) {\n",
    "                    board.removeObject('AD');\n",
    "                    var point1 = [state[\"dragLine\"][\"p1X\"],state[\"dragLine\"][\"p1Y\"]];\n",
    "                    var point2 = [state[\"dragLine\"][\"p2X\"],state[\"dragLine\"][\"p2Y\"]]\n",
    "                    dragLine = createDragLine(point1,point2);\n",
    "                    board.update();\n",
    "                }\n",
    "                //alert(statestr);\n",
    "                console.debug('State updated successfully from saved.');\n",
    "            }\n",
    "            \n",
    "        </script>\n",
    "    </body>\n",
    "</html>"
   ]
  },
  {
   "cell_type": "code",
   "execution_count": 14,
   "metadata": {
    "collapsed": false
   },
   "outputs": [],
   "source": [
    "def grader(e, ans):\n",
    "    import json\n",
    "    answer = json.loads(ans)\n",
    "\n",
    "    def dist1D(xf,xi):\n",
    "        #print xf,xi,xf-xi\n",
    "        return xf-xi\n",
    "\n",
    "    delta = dist1D(answer['dragLine']['p1Y'],answer['staticLine']['p1Y'])\n",
    "    if delta > 0:\n",
    "        if delta > 0.5:\n",
    "            return {'ok': True, 'msg': 'Good job.'}\n",
    "    elif delta < 0:\n",
    "        return {'ok': False, 'msg': 'Please rethink your solution - explanation.'}\n",
    "    else:\n",
    "        return {'ok': False, 'msg': 'Something wrong.'}"
   ]
  },
  {
   "cell_type": "code",
   "execution_count": 15,
   "metadata": {
    "collapsed": false
   },
   "outputs": [
    {
     "ename": "NameError",
     "evalue": "name 'state' is not defined",
     "output_type": "error",
     "traceback": [
      "\u001b[0;31m---------------------------------------------------------------------------\u001b[0m",
      "\u001b[0;31mNameError\u001b[0m                                 Traceback (most recent call last)",
      "\u001b[0;32m<ipython-input-15-3f64331cc7d3>\u001b[0m in \u001b[0;36m<module>\u001b[0;34m()\u001b[0m\n\u001b[0;32m----> 1\u001b[0;31m \u001b[0mgrader\u001b[0m\u001b[0;34m(\u001b[0m\u001b[0;34m'what'\u001b[0m\u001b[0;34m,\u001b[0m\u001b[0mstate\u001b[0m\u001b[0;34m)\u001b[0m\u001b[0;34m\u001b[0m\u001b[0m\n\u001b[0m",
      "\u001b[0;31mNameError\u001b[0m: name 'state' is not defined"
     ]
    }
   ],
   "source": [
    "grader('what',state)"
   ]
  },
  {
   "cell_type": "markdown",
   "metadata": {},
   "source": [
    "#### File Templating"
   ]
  },
  {
   "cell_type": "code",
   "execution_count": 88,
   "metadata": {
    "collapsed": false
   },
   "outputs": [
    {
     "data": {
      "text/plain": [
       "[u'dragLine', u'staticLine']"
      ]
     },
     "execution_count": 88,
     "metadata": {},
     "output_type": "execute_result"
    }
   ],
   "source": [
    "answer.keys()"
   ]
  },
  {
   "cell_type": "code",
   "execution_count": null,
   "metadata": {
    "collapsed": false
   },
   "outputs": [],
   "source": []
  }
 ],
 "metadata": {
  "kernelspec": {
   "display_name": "Python 2",
   "language": "python",
   "name": "python2"
  },
  "language_info": {
   "codemirror_mode": {
    "name": "ipython",
    "version": 2
   },
   "file_extension": ".py",
   "mimetype": "text/x-python",
   "name": "python",
   "nbconvert_exporter": "python",
   "pygments_lexer": "ipython2",
   "version": "2.7.9"
  }
 },
 "nbformat": 4,
 "nbformat_minor": 0
}
